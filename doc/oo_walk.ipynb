{
 "cells": [
  {
   "cell_type": "markdown",
   "id": "3eeb3bee",
   "metadata": {},
   "source": [
    "# Object-Oriented Tree Walk Generator"
   ]
  },
  {
   "cell_type": "markdown",
   "id": "97a4af29",
   "metadata": {},
   "source": [
    "The problem is that of walking a tree (let's say depth-first) as efficiently as possible given that\n",
    "- the tree is too big to fully load into memory\n",
    "- we cannot know each node's children without accessing the node itself\n",
    "- each node is very slow to access\n",
    "- we want to be able to filter through every node to keep or skip\n",
    "- (we want to paginate this walk, which is a kind of filter)\n",
    "\n",
    "The solution is to chain `Generator`s (a producer then a series of filters), with a way to propagate an `Exception` up the `Generator` chain to signal that the current node and all its (yet unaccessed) descendants may be skipped."
   ]
  },
  {
   "cell_type": "code",
   "execution_count": 74,
   "id": "1a31cd19",
   "metadata": {
    "tags": [
     "boilerplate"
    ]
   },
   "outputs": [],
   "source": [
    "from __future__ import annotations\n",
    "\n",
    "from typing import (\n",
    "    TypeAlias,\n",
    "    Tuple,\n",
    "    List,\n",
    "    Any,\n",
    "    Generator,\n",
    "    Type,\n",
    "    Callable,\n",
    "    Optional,\n",
    ")\n",
    "\n",
    "from dataclasses import dataclass\n",
    "\n",
    "from collections import (\n",
    "    deque\n",
    ")"
   ]
  },
  {
   "cell_type": "markdown",
   "id": "fe4d1d16",
   "metadata": {},
   "source": [
    "Let's create a sample tree to walk through.\n",
    "\n",
    "To keep this as simple as possible each node will be a tuple composed of the node name and its child nodes list. Neither the root nor the leaves will be special in any way.\n",
    "\n",
    "_Imagine however that each node is a remote ressource, which must be slowly fetched to be read, and that itself contains its children list unavailable anywhere else._"
   ]
  },
  {
   "cell_type": "code",
   "execution_count": 75,
   "id": "599e5b64",
   "metadata": {
    "tags": [
     "boilerplate"
    ]
   },
   "outputs": [],
   "source": [
    "Tree: TypeAlias = Tuple[str, List[\"Tree\"]]\n",
    "\n",
    "tree: Tree = (\"a\", [\n",
    "    (\"a.a\", [\n",
    "        (\"a.a.a\", []),\n",
    "        (\"a.a.b\", [\n",
    "            (\"a.a.b.a\", []),\n",
    "            (\"a.a.b.b\", [\n",
    "                (\"a.a.b.b.a\", []),\n",
    "            ]),\n",
    "        ])\n",
    "    ]),\n",
    "    (\"a.b\", [\n",
    "        (\"a.b.a\", []),\n",
    "        (\"a.b.b\", [])\n",
    "    ]),\n",
    "    (\"a.c\", [])\n",
    "])"
   ]
  },
  {
   "cell_type": "markdown",
   "id": "f145d277",
   "metadata": {},
   "source": [
    "We then create two generator classes.\n",
    "\n",
    "A recursive `TreeWalk` generator which handles walking through the tree and yields each node; and a `TreeWalkFilter` generator which takes a `TreeWalk` or `TreeWalkFilter` generator as input, applies a custom filtering logic to each node it receives then yields it again (or not and eventually sends a _skip_ signal up the chain). This signal (an `Exception`) is propagated up from downstream filter generators or user code to the source walk generator scope using the generators `.throw()` method."
   ]
  },
  {
   "cell_type": "markdown",
   "id": "50fd8d03",
   "metadata": {},
   "source": [
    "Our special _signal_, other exceptions will be delegated to the default exception handling behaviour."
   ]
  },
  {
   "cell_type": "code",
   "execution_count": 76,
   "id": "2e776c9b",
   "metadata": {},
   "outputs": [],
   "source": [
    "class SkipBranchWalk(Exception):\n",
    "    pass"
   ]
  },
  {
   "cell_type": "markdown",
   "id": "45ce9d7c",
   "metadata": {},
   "source": [
    "The recursive `TreeWalk` generator."
   ]
  },
  {
   "cell_type": "code",
   "execution_count": 77,
   "id": "ee9e41a5",
   "metadata": {},
   "outputs": [],
   "source": [
    "class TreeWalk(Generator):\n",
    "\n",
    "    root: Tree\n",
    "\n",
    "    _remaining_nodes: deque[Tree]\n",
    "    _current_yielding_node: TreeWalk | None = None\n",
    "    _current_yielded_node: Tree | None = None\n",
    "\n",
    "    def __init__(self, root: Tree):\n",
    "\n",
    "        self.root = root\n",
    "        self._remaining_nodes = deque(root[1])\n",
    "\n",
    "    def __next__(self) -> str:\n",
    "        if self._current_yielding_node:\n",
    "            try:\n",
    "                self._current_yielded_node = next(self._current_yielding_node)\n",
    "                return self._current_yielded_node\n",
    "            except StopIteration:\n",
    "                self._current_yielding_node = None\n",
    "\n",
    "        if not self._remaining_nodes:\n",
    "            self._current_yielded_node = None\n",
    "            raise StopIteration\n",
    "\n",
    "        node = self._remaining_nodes.popleft()\n",
    "\n",
    "        self._current_yielded_node = node[0]\n",
    "        self._current_yielding_node = TreeWalk(node)\n",
    "\n",
    "        return self._current_yielded_node\n",
    "\n",
    "    def __iter__(self):\n",
    "        return self\n",
    "\n",
    "    def send(self, value: Any = None):\n",
    "        return super().send(value)\n",
    "\n",
    "    def throw(self, type: Type[Exception], value: Exception = None, traceback: Any = None):\n",
    "        if type is SkipBranchWalk or isinstance(type, SkipBranchWalk):\n",
    "            print(f\"SkipBranchWalk thrown on {self._current_yielded_node}\")\n",
    "\n",
    "            self._current_yielding_node = None\n",
    "        else:\n",
    "            return super().throw(type, value, traceback)\n"
   ]
  },
  {
   "cell_type": "markdown",
   "id": "1daaddd6",
   "metadata": {},
   "source": [
    "The `TreeWalkFilter` generator. \n",
    "\n",
    "The `filter` is intended to be a pure function which receives a node name and decides to :\n",
    "- return `True` or `False` to let through the node or instead skip it (but not its descendants)\n",
    "- return `None` (same as `True`) to let through the node\n",
    "- return `Any` other value, to transform the node name, then let through to the next filter (or the end consumer)\n",
    "- return or raise `SkipBranchWalk` skip the node **and all its descendants**.\n",
    "\n",
    "The filter being a generator, eventually in the middle of a chain of other filters, it must also handle the case of being `.throw()`n a `SkipBranchWalk` exception and pass it through to the root Walk Generator."
   ]
  },
  {
   "cell_type": "code",
   "execution_count": 78,
   "id": "4c6d5ea1",
   "metadata": {},
   "outputs": [],
   "source": [
    "\n",
    "\n",
    "class TreeWalkFilter(Generator):\n",
    "\n",
    "    _walk: TreeWalk\n",
    "    _filter: Callable[[str], Optional[bool | str]]\n",
    "    _current_yielded_node: str | None = None\n",
    "\n",
    "    def __init__(self, walk: TreeWalk | TreeWalkFilter, filter: Callable[[str], Optional[bool | str]]):\n",
    "        self._walk = walk\n",
    "        self._filter = filter\n",
    "\n",
    "    def __next__(self) -> str:\n",
    "        current_node = next(self._walk)\n",
    "\n",
    "        try:\n",
    "            filtered_current_node = self._filter(current_node)\n",
    "\n",
    "            if filtered_current_node in [False, None]:\n",
    "                self._current_yielded_node = None\n",
    "            elif filtered_current_node == True:\n",
    "                self._current_yielded_node = current_node\n",
    "            else:\n",
    "                self._current_yielded_node = filtered_current_node\n",
    "        except SkipBranchWalk as error:\n",
    "            print(f\"SkipBranchWalk raised on {current_node} in {str(self._filter)}\")\n",
    "            self._current_yielded_node = None\n",
    "\n",
    "            assert self._walk.throw(error) is None\n",
    "\n",
    "            return next(self)\n",
    "        else:\n",
    "            if self._current_yielded_node is not None:\n",
    "                return self._current_yielded_node\n",
    "            else:\n",
    "                return next(self)\n",
    "\n",
    "    def __iter__(self):\n",
    "        return self\n",
    "\n",
    "    def send(self, value: Any = None):\n",
    "        return super().send(value)\n",
    "\n",
    "    def throw(self, type: Type[Exception], value: Exception = None, traceback: Any = None):\n",
    "        if type is SkipBranchWalk or isinstance(type, SkipBranchWalk):\n",
    "            print(f\"SkipBranchWalk thrown on {self._current_yielded_node} in {str(self._filter)}\")\n",
    "\n",
    "            assert self._walk.throw(type, value, traceback) is None\n",
    "        else:\n",
    "            return super().throw(type, value, traceback)\n",
    "\n"
   ]
  },
  {
   "cell_type": "markdown",
   "id": "7982526b",
   "metadata": {},
   "source": [
    "Finally let's see the result of this (slightly unconventional) setup"
   ]
  },
  {
   "cell_type": "code",
   "execution_count": 79,
   "id": "8d0516fc",
   "metadata": {},
   "outputs": [
    {
     "name": "stdout",
     "output_type": "stream",
     "text": [
      " --- Full tree --- \n",
      "a.a\n",
      "a.a.a\n",
      "a.a.b\n",
      "a.a.b.a\n",
      "a.a.b.b\n",
      "a.a.b.b.a\n",
      "a.b\n",
      "a.b.a\n",
      "a.b.b\n",
      "a.c\n",
      " --- Without branch 'a' --- \n",
      "SkipBranchWalk thrown on a.a\n",
      "a.b\n",
      "a.b.a\n",
      "a.b.b\n",
      "a.c\n",
      " --- Without branch 'a' using a filter --- \n",
      "SkipBranchWalk raised on a.a in <function filter at 0x7b9a2cce6700>\n",
      "SkipBranchWalk thrown on a.a\n",
      "a.b\n",
      "a.b.a\n",
      "a.b.b\n",
      "a.c\n",
      " --- Without branch 'a' and 'b' using chained filters --- \n",
      "SkipBranchWalk raised on a.a in <function filter_a at 0x7b9a2cce5440>\n",
      "SkipBranchWalk thrown on a.a\n",
      "SkipBranchWalk raised on a.b in <function filter_b at 0x7b9a2cce6160>\n",
      "SkipBranchWalk thrown on a.b in <function filter_a at 0x7b9a2cce5440>\n",
      "SkipBranchWalk thrown on a.b\n",
      "a.c\n"
     ]
    }
   ],
   "source": [
    "\n",
    "print(\" --- Full tree --- \")\n",
    "\n",
    "for node in (walk := TreeWalk(tree)):\n",
    "    print(node)\n",
    "\n",
    "print(\" --- Without branch 'a' --- \")\n",
    "\n",
    "for node in (walk := TreeWalk(tree)):\n",
    "    if node.startswith(\"a.a\"):\n",
    "        walk.throw(SkipBranchWalk)\n",
    "    else:\n",
    "        print(node)\n",
    "\n",
    "print(\" --- Without branch 'a' using a filter --- \")\n",
    "\n",
    "\n",
    "def filter(node: str):\n",
    "    if node.startswith(\"a.a\"):\n",
    "        raise SkipBranchWalk\n",
    "    else:\n",
    "        return True\n",
    "\n",
    "walk = TreeWalk(tree)\n",
    "filtered_walk = TreeWalkFilter(walk, filter)\n",
    "\n",
    "for node in filtered_walk:\n",
    "    print(node)\n",
    "\n",
    "print(\" --- Without branch 'a' and 'b' using chained filters --- \")\n",
    "\n",
    "def filter_a(node: str):\n",
    "    if node.startswith(\"a.a\"):\n",
    "        raise SkipBranchWalk\n",
    "    else:\n",
    "        return True\n",
    "\n",
    "def filter_b(node: str):\n",
    "    if node.startswith(\"a.b\"):\n",
    "        raise SkipBranchWalk\n",
    "    else:\n",
    "        return True\n",
    "\n",
    "walk = TreeWalk(tree)\n",
    "filtered_walk = TreeWalkFilter(TreeWalkFilter(walk, filter_a), filter_b)\n",
    "\n",
    "for node in filtered_walk:\n",
    "    print(node)"
   ]
  }
 ],
 "metadata": {
  "kernelspec": {
   "display_name": ".venv",
   "language": "python",
   "name": "python3"
  },
  "language_info": {
   "codemirror_mode": {
    "name": "ipython",
    "version": 3
   },
   "file_extension": ".py",
   "mimetype": "text/x-python",
   "name": "python",
   "nbconvert_exporter": "python",
   "pygments_lexer": "ipython3",
   "version": "3.12.3"
  }
 },
 "nbformat": 4,
 "nbformat_minor": 5
}
